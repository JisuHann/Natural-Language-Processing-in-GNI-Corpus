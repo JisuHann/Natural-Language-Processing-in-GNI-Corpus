{
 "cells": [
  {
   "cell_type": "code",
   "execution_count": 22,
   "metadata": {},
   "outputs": [],
   "source": [
    "import nltk\n",
    "from nltk.corpus import *\n",
    "import re\n",
    "corpus_root = \"C:/Users/Jisu Han/AppData/Roaming/nltk_data/corpora/GNI Corpus 1.0/raw_text2\"\n",
    "GNICorpus = PlaintextCorpusReader(corpus_root, '.*\\.txt', encoding = 'utf-8')"
   ]
  },
  {
   "cell_type": "code",
   "execution_count": 23,
   "metadata": {},
   "outputs": [
    {
     "name": "stdout",
     "output_type": "stream",
     "text": [
      "['pl', 'pl', 'pl', 'pl', 'pl', 'pl']\n",
      "['pg/ml', 'pg/ml', 'pg/ml', 'pg/ml', 'pg/ml', 'pg/ml', 'pg/ml']\n"
     ]
    }
   ],
   "source": [
    "# 문제 1의 해결방법: 실제 단위 표기로 바꾸기\n",
    "giRaw = GNICorpus.raw('gni-4-2-80.txt')\n",
    "words = nltk.word_tokenize(giRaw)\n",
    "set1 = [w for w in words if re.search(r'^(p|z)+l$',w)]\n",
    "set2 = [w for w in words if re.search(r'^(p|z)+g/ml$',w)]\n",
    "print(set1)\n",
    "print(set2)"
   ]
  },
  {
   "cell_type": "code",
   "execution_count": 24,
   "metadata": {},
   "outputs": [
    {
     "name": "stdout",
     "output_type": "stream",
     "text": [
      "['10*(-6)l', '10*(-6)l', '10*(-6)l', '10*(-6)l', '10*(-6)l', '10*(-6)l']\n",
      "['10*(-6)g/ml', '10*(-6)g/ml', '10*(-6)g/ml', '10*(-6)g/ml', '10*(-6)g/ml', '10*(-6)g/ml', '10*(-6)g/ml']\n"
     ]
    }
   ],
   "source": [
    "set1_revise = [re.sub(r'^p', '10*(-6)', w) for w in set1]\n",
    "set2_revise = [re.sub(r'^p', '10*(-6)', w) for w in set2]\n",
    "print(set1_revise)\n",
    "print(set2_revise)"
   ]
  },
  {
   "cell_type": "code",
   "execution_count": 25,
   "metadata": {},
   "outputs": [],
   "source": [
    "def unit_revist(words):\n",
    "    set1 = [w for w in words if re.search(r'^(p|z)+l$',w)]\n",
    "    set2 = [w for w in words if re.search(r'^(p|z)+g/ml$',w)]\n",
    "    set1_revise = [re.sub(r'^p', '10*(-6)', w) for w in set1]\n",
    "    set2_revise = [re.sub(r'^p', '10*(-6)', w) for w in set2]\n",
    "    return set1_revise + set2_revise"
   ]
  },
  {
   "cell_type": "code",
   "execution_count": 26,
   "metadata": {},
   "outputs": [
    {
     "name": "stdout",
     "output_type": "stream",
     "text": [
      "['10−7', '10−8', '10−7∼10−10', '10−10', '10−7∼10−8']\n"
     ]
    }
   ],
   "source": [
    "#문제 2의 해결방법: 제곱수 수정하기\n",
    "giRaw = GNICorpus.raw('gni-7-1-32.txt')\n",
    "words = nltk.word_tokenize(giRaw)\n",
    "set1 = [w for w in words if re.search('^10−',w)]\n",
    "print(set1)"
   ]
  },
  {
   "cell_type": "code",
   "execution_count": 27,
   "metadata": {},
   "outputs": [
    {
     "name": "stdout",
     "output_type": "stream",
     "text": [
      "['10^-7', '10^-8', '10^-7∼10^-10', '10^-10', '10^-7∼10^-8']\n"
     ]
    }
   ],
   "source": [
    "set1_revise = [re.sub(r'10−', '10^-', w) for w in set1]\n",
    "print(set1_revise)"
   ]
  },
  {
   "cell_type": "code",
   "execution_count": 28,
   "metadata": {},
   "outputs": [],
   "source": [
    "def square_revise(words):\n",
    "    set1 = [w for w in words if re.search('^10−',w)]\n",
    "    set1_revise = [re.sub(r'10−', '10^-', w) for w in set1]\n",
    "    return set1_revise"
   ]
  },
  {
   "cell_type": "code",
   "execution_count": 29,
   "metadata": {},
   "outputs": [
    {
     "name": "stdout",
     "output_type": "stream",
     "text": [
      "['eta/.', 'a/.', 'a/.', 'a/.', 'eta/', 'ma/', 'a/.', 'a/.', 'a/.', 'a/.']\n"
     ]
    }
   ],
   "source": [
    "#문제 3의 해결방법: l 이탤릭체 오류 수정하기\n",
    "giRaw = GNICorpus.raw('gni-1-1-25.txt')\n",
    "words = nltk.word_tokenize(giRaw)\n",
    "set1 = [w for w in words if re.search('a/+',w)]\n",
    "print(set1)"
   ]
  },
  {
   "cell_type": "code",
   "execution_count": 30,
   "metadata": {},
   "outputs": [
    {
     "name": "stdout",
     "output_type": "stream",
     "text": [
      "['etal.', 'al.', 'al.', 'al.', 'eta/', 'ma/', 'al.', 'al.', 'al.', 'al.']\n"
     ]
    }
   ],
   "source": [
    "set1_revise = [re.sub(r'a/.', 'al.',w) for w in set1]\n",
    "print(set1_revise)"
   ]
  },
  {
   "cell_type": "code",
   "execution_count": 31,
   "metadata": {},
   "outputs": [],
   "source": [
    "def italic_revise(words):\n",
    "    set1 = [w for w in words if re.search('a/+',w)]\n",
    "    set1_revise = [re.sub(r'a/.', 'al.',w) for w in set1]\n",
    "    return set1_revise"
   ]
  }
 ],
 "metadata": {
  "kernelspec": {
   "display_name": "Python 3",
   "language": "python",
   "name": "python3"
  },
  "language_info": {
   "codemirror_mode": {
    "name": "ipython",
    "version": 3
   },
   "file_extension": ".py",
   "mimetype": "text/x-python",
   "name": "python",
   "nbconvert_exporter": "python",
   "pygments_lexer": "ipython3",
   "version": "3.7.1"
  }
 },
 "nbformat": 4,
 "nbformat_minor": 2
}
