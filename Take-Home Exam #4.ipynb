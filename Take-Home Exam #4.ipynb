{
 "cells": [
  {
   "cell_type": "code",
   "execution_count": 23,
   "metadata": {},
   "outputs": [],
   "source": [
    "import nltk\n",
    "from nltk.corpus import *\n",
    "from nltk.corpus import brown"
   ]
  },
  {
   "cell_type": "code",
   "execution_count": 24,
   "metadata": {},
   "outputs": [],
   "source": [
    "#GET ALL THE TAGGED_SENTS FROM BROWN CORPUS\n",
    "brown_tagged_sents = brown.tagged_sents(categories = 'news', tagset='universal')\n",
    "for genre in brown.categories():\n",
    "    brown_tagged_sents += brown.tagged_sents(categories = genre, tagset='universal')"
   ]
  },
  {
   "cell_type": "code",
   "execution_count": 25,
   "metadata": {},
   "outputs": [],
   "source": [
    "#TRIAL #1 Train:Test = 9:1\n",
    "size = int(len(brown_tagged_sents)*0.9)\n",
    "train_sents = brown_tagged_sents[:size]\n",
    "test_sents = brown_tagged_sents[size:]"
   ]
  },
  {
   "cell_type": "code",
   "execution_count": 26,
   "metadata": {},
   "outputs": [],
   "source": [
    "default_tagger = nltk.DefaultTagger('NN')\n",
    "unigram_tagger = nltk.UnigramTagger(train_sents, backoff=default_tagger)"
   ]
  },
  {
   "cell_type": "code",
   "execution_count": 27,
   "metadata": {},
   "outputs": [
    {
     "data": {
      "text/plain": [
       "0.9141317573439944"
      ]
     },
     "execution_count": 27,
     "metadata": {},
     "output_type": "execute_result"
    }
   ],
   "source": [
    "unigram_tagger.evaluate(test_sents)"
   ]
  },
  {
   "cell_type": "code",
   "execution_count": 28,
   "metadata": {},
   "outputs": [],
   "source": [
    "#TRIAL 2 Train:Test = 8:2\n",
    "size = int(len(brown_tagged_sents)*0.8)\n",
    "train_sents = brown_tagged_sents[:size]\n",
    "test_sents = brown_tagged_sents[size:]"
   ]
  },
  {
   "cell_type": "code",
   "execution_count": 29,
   "metadata": {},
   "outputs": [],
   "source": [
    "default_tagger = nltk.DefaultTagger('NN')\n",
    "unigram_tagger = nltk.UnigramTagger(train_sents, backoff=default_tagger)"
   ]
  },
  {
   "cell_type": "code",
   "execution_count": 30,
   "metadata": {},
   "outputs": [
    {
     "data": {
      "text/plain": [
       "0.9291772144032018"
      ]
     },
     "execution_count": 30,
     "metadata": {},
     "output_type": "execute_result"
    }
   ],
   "source": [
    "unigram_tagger.evaluate(test_sents)"
   ]
  },
  {
   "cell_type": "code",
   "execution_count": 31,
   "metadata": {},
   "outputs": [
    {
     "data": {
      "text/plain": [
       "0.952234443382424"
      ]
     },
     "execution_count": 31,
     "metadata": {},
     "output_type": "execute_result"
    }
   ],
   "source": [
    "#채택된 Model: Trial 2 MODEL 을 brown 전체 Corpus에 적용해보기\n",
    "unigram_tagger.evaluate(brown_tagged_sents)"
   ]
  },
  {
   "cell_type": "code",
   "execution_count": 32,
   "metadata": {},
   "outputs": [],
   "source": [
    "#채택된 Model을 일반 문장에 적용해보기\n",
    "def sentence_tagger():\n",
    "    print(\"Enter the sentence: \")\n",
    "    sent = input()\n",
    "    token = nltk.word_tokenize(sent)\n",
    "    tuple = unigram_tagger.tag(token)\n",
    "    for i in tuple:\n",
    "        print(i[1], end = ' ')"
   ]
  },
  {
   "cell_type": "code",
   "execution_count": 33,
   "metadata": {},
   "outputs": [
    {
     "name": "stdout",
     "output_type": "stream",
     "text": [
      "Enter the sentence: \n",
      "Time flies like an arrow.\n",
      "NOUN NOUN ADP DET NOUN . "
     ]
    }
   ],
   "source": [
    "#Case 1\n",
    "sentence_tagger()"
   ]
  },
  {
   "cell_type": "code",
   "execution_count": 34,
   "metadata": {},
   "outputs": [
    {
     "name": "stdout",
     "output_type": "stream",
     "text": [
      "Enter the sentence: \n",
      "Although the number of new COVID-19 infections has decreased sharply in South Korea, fears of a resurgence persist\n",
      "ADP DET NOUN ADP ADJ NN NOUN VERB VERB ADV ADP NOUN NOUN . NOUN ADP DET NOUN VERB "
     ]
    }
   ],
   "source": [
    "#Case 2\n",
    "sentence_tagger()"
   ]
  },
  {
   "cell_type": "code",
   "execution_count": 35,
   "metadata": {},
   "outputs": [
    {
     "name": "stdout",
     "output_type": "stream",
     "text": [
      "Enter the sentence: \n",
      "According to the report from the Korea Communications Commission, 95.5 percent of smartphone users watch videos on their devices.\n",
      "ADP PRT DET NOUN ADP DET NOUN NOUN NOUN . NN NOUN ADP NN NOUN VERB NN ADP DET NOUN . "
     ]
    }
   ],
   "source": [
    "#Case 3\n",
    "sentence_tagger()"
   ]
  }
 ],
 "metadata": {
  "kernelspec": {
   "display_name": "Python 3",
   "language": "python",
   "name": "python3"
  },
  "language_info": {
   "codemirror_mode": {
    "name": "ipython",
    "version": 3
   },
   "file_extension": ".py",
   "mimetype": "text/x-python",
   "name": "python",
   "nbconvert_exporter": "python",
   "pygments_lexer": "ipython3",
   "version": "3.7.1"
  }
 },
 "nbformat": 4,
 "nbformat_minor": 2
}
