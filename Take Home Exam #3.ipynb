{
 "cells": [
  {
   "cell_type": "code",
   "execution_count": 2,
   "metadata": {},
   "outputs": [
    {
     "data": {
      "text/plain": [
       "['Association', 'Analysis', 'of', 'SERPINB5', ...]"
      ]
     },
     "execution_count": 2,
     "metadata": {},
     "output_type": "execute_result"
    }
   ],
   "source": [
    "import nltk\n",
    "from nltk.corpus import *\n",
    "import re\n",
    "corpus_root=\"C:/Users/Jisu Han/AppData/Roaming/nltk_data/corpora/GNI Corpus 1.0/raw_text2\"\n",
    "gni = PlaintextCorpusReader(corpus_root,\"gni-8-1-1.txt\", encoding = 'utf-8')\n",
    "gni.words()"
   ]
  },
  {
   "cell_type": "code",
   "execution_count": 3,
   "metadata": {},
   "outputs": [],
   "source": [
    "def abbreviations(words):\n",
    "    return list(set([w for w in words if re.search('^[^a-z]+$',w)])\n",
    "    -set([w for w in words if re.search('^[A-Z]{0,2}$',w)])\n",
    "     -set([w for w in words if re.search('^[0-9]+$',w)])\n",
    "    -set([w for w in words if re.search('^[^a-zA-Z0-9]+$',w)]))"
   ]
  },
  {
   "cell_type": "code",
   "execution_count": 4,
   "metadata": {},
   "outputs": [
    {
     "data": {
      "text/plain": [
       "['PHASE',\n",
       " '1B',\n",
       " 'HCV',\n",
       " 'MAF',\n",
       " 'GENEDIA',\n",
       " 'PGA',\n",
       " '1A',\n",
       " 'SERPINB12',\n",
       " 'HCC',\n",
       " 'PCR',\n",
       " 'SERPINB5',\n",
       " 'SEPRINB12',\n",
       " 'UNG',\n",
       " 'ABI',\n",
       " 'MGB',\n",
       " 'SDS',\n",
       " 'FAM',\n",
       " 'SEPRINB5',\n",
       " 'SEPIRNB5',\n",
       " 'PRISM',\n",
       " 'VIC',\n",
       " 'SERPIN',\n",
       " '1C',\n",
       " 'HBV',\n",
       " 'EDF',\n",
       " 'DNA',\n",
       " 'NC_000018',\n",
       " '7900HT']"
      ]
     },
     "execution_count": 4,
     "metadata": {},
     "output_type": "execute_result"
    }
   ],
   "source": [
    "#Case 1) Input: gni-8-1-1.txt\n",
    "abbreviations(gni.words())"
   ]
  },
  {
   "cell_type": "code",
   "execution_count": 5,
   "metadata": {},
   "outputs": [
    {
     "data": {
      "text/plain": [
       "['HARBL',\n",
       " 'REQUEST',\n",
       " 'WIN',\n",
       " 'KTHX',\n",
       " 'TARP',\n",
       " 'WANT',\n",
       " 'KOMBAT',\n",
       " 'CAN',\n",
       " 'HAS',\n",
       " 'KTHNXBAI',\n",
       " 'WENT',\n",
       " 'HARBLZ',\n",
       " 'Gå',\n",
       " 'ANTI',\n",
       " 'CAT',\n",
       " 'WHENZ',\n",
       " 'PWN',\n",
       " 'HERRE',\n",
       " 'HERREN',\n",
       " 'LOL',\n",
       " 'WEAK',\n",
       " 'MOUSES',\n",
       " 'MAGIK',\n",
       " 'TAHT',\n",
       " 'DIL',\n",
       " 'CAKEZ',\n",
       " 'Jää',\n",
       " 'På',\n",
       " 'Aï',\n",
       " 'Ló',\n",
       " 'PENIS',\n",
       " 'GIMMEH',\n",
       " 'DUNT',\n",
       " 'FURST',\n",
       " 'WHUT',\n",
       " 'COOKIZ',\n",
       " 'TNX',\n",
       " 'ANOTHER',\n",
       " 'Où',\n",
       " 'RTFM',\n",
       " 'WAI',\n",
       " 'WHARE',\n",
       " 'BUCKETS',\n",
       " 'Há',\n",
       " 'NOMZ',\n",
       " 'CIELING',\n",
       " 'BUTTSEX',\n",
       " 'OUTCH',\n",
       " 'LYKEZ',\n",
       " 'OMG',\n",
       " 'SOL',\n",
       " 'OLD',\n",
       " 'KTHNX',\n",
       " 'DELICIOUS',\n",
       " 'EPIC',\n",
       " '4U',\n",
       " 'U2',\n",
       " 'BOHICA',\n",
       " 'WTFLOLBBQ',\n",
       " 'HERRENS',\n",
       " 'Dã',\n",
       " 'Jó',\n",
       " 'Eí',\n",
       " 'AFU',\n",
       " 'YOU',\n",
       " 'EVERYTHING',\n",
       " 'LITE',\n",
       " 'Få',\n",
       " 'BUCKETZ',\n",
       " 'WUT',\n",
       " 'AWL',\n",
       " 'GET',\n",
       " 'HUH',\n",
       " 'Là',\n",
       " 'WHERE',\n",
       " 'WRU',\n",
       " 'NOT',\n",
       " 'COOKIEZ',\n",
       " 'SENHOR',\n",
       " 'WTF',\n",
       " 'ASAP',\n",
       " 'FAIL',\n",
       " 'ERROR',\n",
       " '0ƒ',\n",
       " 'KTHZ',\n",
       " 'OMFG',\n",
       " 'DIAPHRAM',\n",
       " 'DID',\n",
       " 'CHEEZBURGER',\n",
       " 'NAO',\n",
       " 'HERRN',\n",
       " 'YRZ',\n",
       " 'LORD',\n",
       " 'Dá',\n",
       " 'BFF',\n",
       " 'TEH',\n",
       " 'Hã',\n",
       " 'Fü',\n",
       " 'GOES',\n",
       " 'JEOVÁ',\n",
       " 'Så',\n",
       " 'MADE',\n",
       " 'KBAI',\n",
       " 'CHEEZBURGERZ',\n",
       " 'INVISIBLE',\n",
       " 'Må',\n",
       " 'DENIED',\n",
       " 'KTHXBAI',\n",
       " 'VISIBLE',\n",
       " 'HERR',\n",
       " 'GTFO',\n",
       " 'BUCKET',\n",
       " 'NOM',\n",
       " 'DNA',\n",
       " 'B4',\n",
       " 'CAKES',\n",
       " 'MAI',\n",
       " 'MORTAL',\n",
       " 'Då']"
      ]
     },
     "execution_count": 5,
     "metadata": {},
     "output_type": "execute_result"
    }
   ],
   "source": [
    "#Case 2) Input: genesis Corpus\n",
    "from nltk.corpus import genesis\n",
    "abbreviations(genesis.words())"
   ]
  },
  {
   "cell_type": "code",
   "execution_count": 6,
   "metadata": {},
   "outputs": [
    {
     "data": {
      "text/plain": [
       "119"
      ]
     },
     "execution_count": 6,
     "metadata": {},
     "output_type": "execute_result"
    }
   ],
   "source": [
    "len(abbreviations(genesis.words()))"
   ]
  },
  {
   "cell_type": "code",
   "execution_count": 7,
   "metadata": {},
   "outputs": [
    {
     "data": {
      "text/plain": [
       "['THIS',\n",
       " 'SYSTEM',\n",
       " 'OUR',\n",
       " 'BUSINESS',\n",
       " 'AIDS',\n",
       " 'ALL',\n",
       " 'EDUCATION',\n",
       " 'PUBLIC',\n",
       " 'CONCLUSION',\n",
       " 'PARTY',\n",
       " 'SESSION',\n",
       " 'FAILURE',\n",
       " 'SPECIAL',\n",
       " 'EIGHTEENTH',\n",
       " 'RESPONSIBILITIES',\n",
       " 'CRIMINAL',\n",
       " 'HEALTH',\n",
       " 'YOUNG',\n",
       " 'INVESTIGATION',\n",
       " 'FROM',\n",
       " 'ENFORCEMENT',\n",
       " 'RELATION',\n",
       " 'COOPERATION',\n",
       " 'CONGRESS',\n",
       " 'ELECTION',\n",
       " 'GOVERNMENT',\n",
       " 'THE',\n",
       " 'PEACE',\n",
       " 'AMENDMENT',\n",
       " 'NATIONAL',\n",
       " 'OTHER',\n",
       " 'WORLD',\n",
       " 'JUSTICE',\n",
       " 'PROGRESS',\n",
       " 'MANDATES']"
      ]
     },
     "execution_count": 7,
     "metadata": {},
     "output_type": "execute_result"
    }
   ],
   "source": [
    "#Case 3) Input: inaugural Corpus\n",
    "from nltk.corpus import inaugural\n",
    "abbreviations(inaugural.words())"
   ]
  },
  {
   "cell_type": "code",
   "execution_count": 8,
   "metadata": {},
   "outputs": [
    {
     "data": {
      "text/plain": [
       "35"
      ]
     },
     "execution_count": 8,
     "metadata": {},
     "output_type": "execute_result"
    }
   ],
   "source": [
    "len(abbreviations(inaugural.words()))"
   ]
  }
 ],
 "metadata": {
  "kernelspec": {
   "display_name": "Python 3",
   "language": "python",
   "name": "python3"
  },
  "language_info": {
   "codemirror_mode": {
    "name": "ipython",
    "version": 3
   },
   "file_extension": ".py",
   "mimetype": "text/x-python",
   "name": "python",
   "nbconvert_exporter": "python",
   "pygments_lexer": "ipython3",
   "version": "3.7.1"
  }
 },
 "nbformat": 4,
 "nbformat_minor": 2
}
